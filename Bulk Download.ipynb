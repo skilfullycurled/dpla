{
 "cells": [
  {
   "cell_type": "code",
   "execution_count": null,
   "metadata": {
    "collapsed": true,
    "deletable": true,
    "editable": true
   },
   "outputs": [],
   "source": [
    "# https://docs.aws.amazon.com/AWSEC2/latest/UserGuide/AmazonS3.html\n",
    "# https://boto3.readthedocs.io/en/latest/reference/services/s3.html#S3.Bucket.download_file\n",
    "# https://docs.aws.amazon.com/AWSEC2/latest/UserGuide/AmazonS3.html\n",
    "# https://stackoverflow.com/questions/42090830/use-boto3-to-download-from-public-bucket"
   ]
  },
  {
   "cell_type": "markdown",
   "metadata": {
    "deletable": true,
    "editable": true
   },
   "source": [
    "I was unable to get the Boto3 libarary to work.  It continually returned an access denied issue.  Using the python library awscli, I was able to install the AWS CLI on my server.  However, this did not alievate the problem.\n",
    "\n",
    "Then I tried an experiement wherein I used the https request to see if it might simply download whatever file was in the s3 bucket and save it to a file called export.zip.\n",
    "\n",
    "https://docs.aws.amazon.com/AWSEC2/latest/UserGuide/AmazonS3.html\n",
    "\n",
    "Instead, a file called index.html was successfully downloaded while the export.zip portion failed (I believe this is because wget does not take a filename to download to)."
   ]
  },
  {
   "cell_type": "markdown",
   "metadata": {
    "deletable": true,
    "editable": true
   },
   "source": [
    "wget https://dpla-provider-export.s3.amazonaws.com/ export.zip  \n",
    "\n",
    "--2018-06-25 16:31:47--  https://dpla-provider-export.s3.amazonaws.com/  \n",
    "Resolving dpla-provider-export.s3.amazonaws.com (dpla-provider-export.s3.amazonaws.com)... 52.216.160.3  \n",
    "Connecting to dpla-provider-export.s3.amazonaws.com (dpla-provider-export.s3.amazonaws.com)|52.216.160.3|:443... connected.  \n",
    "HTTP request sent, awaiting response... 200 OK  \n",
    "Length: unspecified [application/xml]  \n",
    "Saving to: `index.html'  \n",
    "\n",
    "    [ <=>                                                       ] 226,527 --.-K/s in 0.01s\n",
    "\n",
    "2018-06-25 16:31:47 (19.7 MB/s) - `index.html' saved [226527]"
   ]
  },
  {
   "cell_type": "markdown",
   "metadata": {
    "deletable": true,
    "editable": true
   },
   "source": [
    "Having an index.html file was completely unexpected.  Upon expoloring the file, it became clear there was valid XML.  So I resaved the file as dpla_bucket.xml.  Opening this file in a browser did indeed show the XML not only for the entire json file, but for each individual provider json file."
   ]
  },
  {
   "cell_type": "code",
   "execution_count": 66,
   "metadata": {
    "collapsed": false,
    "deletable": true,
    "editable": true
   },
   "outputs": [],
   "source": [
    "<ListBucketResult>\n",
    "    <Name>dpla-provider-export</Name>\n",
    "    <Prefix/>\n",
    "    <Marker/>\n",
    "    <MaxKeys>1000</MaxKeys>\n",
    "    <IsTruncated>true</IsTruncated>\n",
    "    <Contents>\n",
    "        <Key>2015/12/all.json.gz</Key>\n",
    "        <LastModified>2015-12-16T16:39:42.000Z</LastModified>\n",
    "        <ETag>\"7f5835017527b10b69e8156b632f2968-685\"</ETag>\n",
    "        <Size>5026500451</Size>\n",
    "        <StorageClass>STANDARD</StorageClass>\n",
    "    </Contents>\n",
    "    <Contents>\n",
    "        <Key>2015/12/artstor.json.gz</Key>\n",
    "        <AndSoOn></AndSoOn>\n",
    "    </Contents>\n",
    "    <AndSoOn></AndSoOn>\n",
    "<ListBucketResult>"
   ]
  },
  {
   "cell_type": "markdown",
   "metadata": {
    "deletable": true,
    "editable": true
   },
   "source": [
    "I was then able to use the following command to download any file listed in the \"Key\" attribute."
   ]
  },
  {
   "cell_type": "markdown",
   "metadata": {
    "deletable": true,
    "editable": true
   },
   "source": [
    "wget https://dpla-provider-export.s3.amazonaws.com/2015/12/all.json.gz\n",
    "\n",
    "--2018-06-25 16:36:55--  https://dpla-provider-export.s3.amazonaws.com/2015/12/all.json.gz  \n",
    "Resolving dpla-provider-export.s3.amazonaws.com (dpla-provider-export.s3.amazonaws.com)... 52.216.160.43  \n",
    "Connecting to dpla-provider-export.s3.amazonaws.com (dpla-provider export.s3.amazonaws.com)|52.216.160.43|:443... connected.  \n",
    "HTTP request sent, awaiting response... 200 OK  \n",
    "Length: 5026500451 (4.7G) [application/gzip]  \n",
    "Saving to: `all.json.gz'\n",
    "\n",
    "     100%[===============================================>] 5,026,500,451 48.8M/s in 1m 45s\n",
    "\n",
    "2018-06-25 16:38:40 (45.8 MB/s) - `all.json.gz' saved [5026500451/5026500451]"
   ]
  },
  {
   "cell_type": "code",
   "execution_count": 1,
   "metadata": {
    "collapsed": false,
    "deletable": true,
    "editable": true
   },
   "outputs": [
    {
     "name": "stdout",
     "output_type": "stream",
     "text": [
      "all set.\n"
     ]
    }
   ],
   "source": [
    "import boto3\n",
    "import botocore\n",
    "\n",
    "print 'all set.'"
   ]
  },
  {
   "cell_type": "code",
   "execution_count": 46,
   "metadata": {
    "collapsed": false,
    "deletable": true,
    "editable": true
   },
   "outputs": [],
   "source": [
    "# import boto3\n",
    "# import botocore\n",
    "\n",
    "# ACCESS_KEY = 'AWS_ACCESS_KEY'\n",
    "# SECRET_ACCESS_KEY = 'AWS_SECRET_ACCESS_KEY'\n",
    "# DPLA_BUCKET = 'dpla-provider-export'\n",
    "# FILE_KEY = '2015/12/georgia.json.gz'\n",
    "\n",
    "# # s3 = boto3.resource('s3')\n",
    "# s3 = boto3.resource('s3', aws_access_key_id=ACCESS_KEY, aws_secret_access_key= SECRET_ACCESS_KEY)\n",
    "# # bucket = s3.Bucket(DPLA_BUCKET)\n",
    "# # bucket.download_file(FILE_KEY, 'georgia.tar.gz')\n",
    "\n",
    "# try:\n",
    "#     s3.Bucket(DPLA_BUCKET).download_file(FILE_KEY, 'georgia.tar.gz')\n",
    "# except botocore.exceptions.ClientError as e:\n",
    "#     if e.response['Error']['Code'] == \"404\":\n",
    "#         print(\"The object does not exist.\")\n",
    "#     else:\n",
    "#         raise"
   ]
  },
  {
   "cell_type": "code",
   "execution_count": 47,
   "metadata": {
    "collapsed": false,
    "deletable": true,
    "editable": true
   },
   "outputs": [],
   "source": [
    "s3_client = client = boto3.client('s3', aws_access_key_id=ACCESS_KEY, aws_secret_access_key= SECRET_ACCESS_KEY)\n",
    "s3_resource = boto3.resource('s3', aws_access_key_id=ACCESS_KEY, aws_secret_access_key= SECRET_ACCESS_KEY)"
   ]
  },
  {
   "cell_type": "code",
   "execution_count": 64,
   "metadata": {
    "collapsed": false,
    "deletable": true,
    "editable": true
   },
   "outputs": [
    {
     "data": {
      "text/plain": [
       "('dpla-provider-export', None)"
      ]
     },
     "execution_count": 64,
     "metadata": {},
     "output_type": "execute_result"
    }
   ],
   "source": [
    "bucket = s3.Bucket(DPLA_BUCKET)\n",
    "bucket.name, bucket.creation_date\n",
    "# bucket.get_available_subresources()"
   ]
  },
  {
   "cell_type": "code",
   "execution_count": 58,
   "metadata": {
    "collapsed": false,
    "deletable": true,
    "editable": true
   },
   "outputs": [
    {
     "data": {
      "text/plain": [
       "('dpla-provider-export', '2015/12/georgia.json.gz')"
      ]
     },
     "execution_count": 58,
     "metadata": {},
     "output_type": "execute_result"
    }
   ],
   "source": [
    "obj = s3_resource.Object(DPLA_BUCKET, FILE_KEY)\n",
    "obj.bucket_name, obj.key"
   ]
  }
 ],
 "metadata": {
  "kernelspec": {
   "display_name": "Python 2",
   "language": "python",
   "name": "python2"
  },
  "language_info": {
   "codemirror_mode": {
    "name": "ipython",
    "version": 2
   },
   "file_extension": ".py",
   "mimetype": "text/x-python",
   "name": "python",
   "nbconvert_exporter": "python",
   "pygments_lexer": "ipython2",
   "version": "2.7.13"
  },
  "toc": {
   "colors": {
    "hover_highlight": "#DAA520",
    "navigate_num": "#000000",
    "navigate_text": "#333333",
    "running_highlight": "#FF0000",
    "selected_highlight": "#FFD700",
    "sidebar_border": "#EEEEEE",
    "wrapper_background": "#FFFFFF"
   },
   "moveMenuLeft": true,
   "nav_menu": {
    "height": "12px",
    "width": "252px"
   },
   "navigate_menu": true,
   "number_sections": true,
   "sideBar": true,
   "threshold": 4,
   "toc_cell": false,
   "toc_section_display": "block",
   "toc_window_display": false,
   "widenNotebook": false
  }
 },
 "nbformat": 4,
 "nbformat_minor": 2
}
