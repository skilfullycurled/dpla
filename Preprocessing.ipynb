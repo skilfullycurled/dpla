{
 "cells": [
  {
   "cell_type": "code",
   "execution_count": null,
   "metadata": {
    "collapsed": true,
    "deletable": true,
    "editable": true
   },
   "outputs": [],
   "source": [
    "# https://docs.aws.amazon.com/AWSEC2/latest/UserGuide/AmazonS3.html\n",
    "# https://boto3.readthedocs.io/en/latest/reference/services/s3.html#S3.Bucket.download_file\n",
    "# https://docs.aws.amazon.com/AWSEC2/latest/UserGuide/AmazonS3.html\n",
    "# https://stackoverflow.com/questions/42090830/use-boto3-to-download-from-public-bucket"
   ]
  },
  {
   "cell_type": "markdown",
   "metadata": {
    "deletable": true,
    "editable": true
   },
   "source": [
    "FILE SIZE OPTIONS"
   ]
  },
  {
   "cell_type": "code",
   "execution_count": null,
   "metadata": {
    "collapsed": true,
    "deletable": true,
    "editable": true
   },
   "outputs": [],
   "source": [
    "    124361 georgia_shuffled.json 520M\n",
    "    \n",
    "    100000 georgia_1e5.json      418M  80.40%  FAIL\n",
    "     50000 georgia_5e4.json      209M  40.20%  562M\n",
    "     25000 georgia_25e3.json     105M  20.10%  260M\n",
    "     12436 georgia_12e3.json      58M  10.00%   64M(?)   \n",
    "     10000 georgia_1e4.json       42M   8.04%   75M\n",
    "      5000 georgia_5e3.json       21M   4.02%   41M\n",
    "      2500 georgia_25e2.json      11M   2.01%   16M  \n",
    "      1000 georgia_1e3.json      6.1M   0.80%    3M\n",
    "       500 georgia_5e2.json      3.0M   0.40%    0M\n",
    "       250 georgia_25e1.json     1.5M   0.20%    0M \n",
    "\n",
    "    318611 total"
   ]
  },
  {
   "cell_type": "code",
   "execution_count": 1,
   "metadata": {
    "collapsed": true,
    "deletable": true,
    "editable": true
   },
   "outputs": [],
   "source": [
    "import simplejson as json\n",
    "import pprint"
   ]
  },
  {
   "cell_type": "code",
   "execution_count": 2,
   "metadata": {
    "collapsed": false,
    "deletable": true,
    "editable": true
   },
   "outputs": [],
   "source": [
    "def print_json(json_obj, skipkeys=False, indent=2, sort_keys=False):\n",
    "    \n",
    "    print json.dumps(json_obj, skipkeys=skipkeys, indent=indent, sort_keys=sort_keys)\n",
    "\n",
    "# print_json(georgia[0], indent=4, sort_keys=True)"
   ]
  },
  {
   "cell_type": "markdown",
   "metadata": {
    "deletable": true,
    "editable": true
   },
   "source": [
    "#### LOAD FILE"
   ]
  },
  {
   "cell_type": "code",
   "execution_count": 3,
   "metadata": {
    "code_folding": [],
    "collapsed": false,
    "deletable": true,
    "editable": true
   },
   "outputs": [],
   "source": [
    "# # HELPFUL LINKS:\n",
    "# # 1. http://zetcode.com/python/simplejson/  \n",
    "\n",
    "\n",
    "databases = 'data/databases/'\n",
    "state = 'georgia/'\n",
    "file_name = 'georgia_25e1.json'\n",
    "\n",
    "with open(databases + state + file_name) as json_file:\n",
    "    georgia = json.load(json_file)"
   ]
  },
  {
   "cell_type": "code",
   "execution_count": 99,
   "metadata": {
    "collapsed": false
   },
   "outputs": [
    {
     "name": "stdout",
     "output_type": "stream",
     "text": [
      "county: True \tcountry: True \tstate: True \tname: True \tcoordinates: True \t"
     ]
    }
   ],
   "source": [
    "# # # SPATIAL\n",
    "# # {\"county\": \"Chatham County\", \"country\": \"United States\", \"state\": \"Georgia\", \n",
    "# #  \"name\": \"Savannah (Ga.)\",\"coordinates\": \"32.08354, -81.09983\"}\n",
    "\n",
    "# # # STATELOCATEDIN\n",
    "# # {\"name\": \"Athens, Ga. : Digital Library of Georgia\"}\n",
    "\n",
    "spatial_keys = ['county', 'country', 'state', 'name', 'coordinates']\n",
    "\n",
    "try:\n",
    "    spatial = georgia[5]['_source']['sourceResource']['spatial'][0]\n",
    "    \n",
    "    for spatial_key in spatial_keys:\n",
    "#         print spatial_key\n",
    "        \n",
    "        if spatial_key in spatial:\n",
    "            exists = True\n",
    "        else:\n",
    "            exists = False\n",
    "            \n",
    "        print spatial_key + ':', exists, '\\t',\n",
    "\n",
    "#     print_json(spatial, indent=2)\n",
    "\n",
    "except Exception as err:\n",
    "    \n",
    "    print err.__class__.__name__ + ' ' + str(err)\n",
    "#     print traceback"
   ]
  },
  {
   "cell_type": "markdown",
   "metadata": {},
   "source": [
    "#### SPATIAL"
   ]
  },
  {
   "cell_type": "code",
   "execution_count": 121,
   "metadata": {
    "collapsed": false
   },
   "outputs": [],
   "source": [
    "count = 0\n",
    "spatial_keys = ['county', 'country', 'state', 'name', 'coordinates']\n",
    "\n",
    "for i, record in enumerate(georgia):\n",
    "    \n",
    "    try:\n",
    "        \n",
    "        sourceResource = record['_source']['sourceResource']\n",
    "        spatial = sourceResource['spatial'][0]\n",
    "        \n",
    "#         print str(i) + '.',\n",
    "        \n",
    "#         for spatial_key in spatial_keys:\n",
    "        \n",
    "#             if spatial_key in spatial:\n",
    "#                 exists = True\n",
    "#             else:\n",
    "#                 exists = False\n",
    "\n",
    "#             print spatial_key + ':', exists, '\\t',\n",
    "#         print ''\n",
    "        if spatial['coordinates']:\n",
    "            print str(i) +'.', spatial['coordinates']\n",
    "        \n",
    "    except Exception as err:\n",
    "        print str(i)+'.', err.__class__.__name__ + ': ' + str(err)\n",
    "#         count += 1\n",
    "\n",
    "# print count"
   ]
  },
  {
   "cell_type": "code",
   "execution_count": null,
   "metadata": {
    "collapsed": true
   },
   "outputs": [],
   "source": [
    "NO SPATIAL INFORMATION: 15\n",
    "5. KeyError 'spatial'\n",
    "\n",
    "\n",
    "COUNTY: 207\n",
    "Name + County\n",
    "\n",
    "NO COUNTY: 28\n",
    "89. KeyError: 'county'\n",
    "    \n",
    "    \n",
    "COUNTRY:\n",
    "9. United States (231)\n",
    "10. Canada (1)\n",
    "    \n",
    "NO COUNTRY: 3\n",
    "119. KeyError: 'country'\n",
    "\n",
    "    \n",
    "STATE: 229\n",
    "0. Georgia: (223)\n",
    "10. Yukan (1)\n",
    "47. Mississippi (1)\n",
    "89. Florida (3)\n",
    "150. Ohio (1)\n",
    "\n",
    "NO STATE: 6\n",
    "240. KeyError: 'state'\n",
    "\n",
    "    \n",
    "NAME:\n",
    "0. Savannah (Ga.)\n",
    "3. United States\n",
    "4. Georgia\n",
    "10. Dawson (Yukon)\n",
    "11. Gordon County (Ga.)\n",
    "45. Chicago (Ill.)\n",
    "47. Mississippi\n",
    "112. Houston Street (Atlanta, Ga.)\n",
    "119. Atlanta Metropolitan Area (Ga.)\n",
    "194. Dalton (Whitfield County, Ga.)\n",
    "\n",
    "NO NAME: 0\n",
    "\n",
    "\n",
    "COORDINATES:\n",
    "0. 32.08354, -81.09983\n",
    "\n",
    "NO COORDINATES: 6"
   ]
  },
  {
   "cell_type": "markdown",
   "metadata": {},
   "source": [
    "#### STATE LOCATED IN"
   ]
  },
  {
   "cell_type": "code",
   "execution_count": 88,
   "metadata": {
    "collapsed": false,
    "deletable": true,
    "editable": true
   },
   "outputs": [],
   "source": [
    "count = 0\n",
    "\n",
    "for i, record in enumerate(georgia):\n",
    "    \n",
    "    try:\n",
    "        \n",
    "        sourceResource = record['_source']['sourceResource']\n",
    "        stateLocatedIn = sourceResource['stateLocatedIn'][0]\n",
    "\n",
    "        if not (':' in stateLocatedIn['name']):\n",
    "            print str(i) +'.', stateLocatedIn['name']\n",
    "#             count += 1\n",
    "    except Exception as err:\n",
    "        print str(i)+'.', err.__class__.__name__ + ': ' + str(err)\n",
    "#         count += 1\n",
    "\n",
    "# print count"
   ]
  },
  {
   "cell_type": "code",
   "execution_count": null,
   "metadata": {
    "collapsed": true
   },
   "outputs": [],
   "source": [
    "STATE EXPLICIT: 200\n",
    "0. Athens, Ga. : Digital Library of Georgia\n",
    "6. Savannah (Ga.) : Asa H. Gordon Library in association with the Internet Archive\n",
    "47. Jackson (Miss.)] : Mississippi Dept. of Archives and History\n",
    "117. Athens, Ga.] : Digital Library of Georgia in association with the Troup County Archives\n",
    "174. Augusta (Ga.) : Reese Library in association with the Internet Archive\n",
    "\n",
    "STATE INFERRED: 34\n",
    "1. Georgia State University Library\n",
    "246. Special Collections and Archives, Georgia State University Library\n",
    "111. Kenan Research Center, Atlanta History Center, 130 West Paces Ferry Road, Atlanta, GA 30305\n",
    "\n",
    "LOCATION IS NOT A STATE: 5\n",
    "23. Knowledge Box\n",
    "79. New Georgia Encyclopedia\n",
    "94. Digital Library of Georgia\n",
    "\n",
    "NO HOLDING INFORMATION: 11\n",
    "5. KeyError 'stateLocatedIn'"
   ]
  }
 ],
 "metadata": {
  "kernelspec": {
   "display_name": "Python 2",
   "language": "python",
   "name": "python2"
  },
  "language_info": {
   "codemirror_mode": {
    "name": "ipython",
    "version": 2
   },
   "file_extension": ".py",
   "mimetype": "text/x-python",
   "name": "python",
   "nbconvert_exporter": "python",
   "pygments_lexer": "ipython2",
   "version": "2.7.13"
  },
  "toc": {
   "colors": {
    "hover_highlight": "#DAA520",
    "navigate_num": "#000000",
    "navigate_text": "#333333",
    "running_highlight": "#FF0000",
    "selected_highlight": "#FFD700",
    "sidebar_border": "#EEEEEE",
    "wrapper_background": "#FFFFFF"
   },
   "moveMenuLeft": true,
   "nav_menu": {
    "height": "12px",
    "width": "252px"
   },
   "navigate_menu": true,
   "number_sections": true,
   "sideBar": true,
   "threshold": 4,
   "toc_cell": false,
   "toc_section_display": "block",
   "toc_window_display": false,
   "widenNotebook": false
  }
 },
 "nbformat": 4,
 "nbformat_minor": 2
}
