{
 "cells": [
  {
   "cell_type": "code",
   "execution_count": null,
   "metadata": {
    "collapsed": true,
    "deletable": true,
    "editable": true
   },
   "outputs": [],
   "source": [
    "# https://docs.aws.amazon.com/AWSEC2/latest/UserGuide/AmazonS3.html\n",
    "# https://boto3.readthedocs.io/en/latest/reference/services/s3.html#S3.Bucket.download_file\n",
    "# https://docs.aws.amazon.com/AWSEC2/latest/UserGuide/AmazonS3.html\n",
    "# https://stackoverflow.com/questions/42090830/use-boto3-to-download-from-public-bucket"
   ]
  },
  {
   "cell_type": "markdown",
   "metadata": {
    "deletable": true,
    "editable": true
   },
   "source": [
    "FILE SIZE OPTIONS"
   ]
  },
  {
   "cell_type": "code",
   "execution_count": null,
   "metadata": {
    "collapsed": true,
    "deletable": true,
    "editable": true
   },
   "outputs": [],
   "source": [
    "    124361 georgia_shuffled.json 520M\n",
    "    \n",
    "    100000 georgia_1e5.json      418M  80.40%  FAIL\n",
    "     50000 georgia_5e4.json      209M  40.20%  562M\n",
    "     25000 georgia_25e3.json     105M  20.10%  260M\n",
    "     12436 georgia_12e3.json      58M  10.00%   64M(?)   \n",
    "     10000 georgia_1e4.json       42M   8.04%   75M\n",
    "      5000 georgia_5e3.json       21M   4.02%   41M\n",
    "      2500 georgia_25e2.json      11M   2.01%   16M  \n",
    "      1000 georgia_1e3.json      6.1M   0.80%    3M\n",
    "       500 georgia_5e2.json      3.0M   0.40%    0M\n",
    "       250 georgia_25e1.json     1.5M   0.20%    0M \n",
    "\n",
    "    318611 total"
   ]
  },
  {
   "cell_type": "code",
   "execution_count": 1,
   "metadata": {
    "collapsed": true,
    "deletable": true,
    "editable": true
   },
   "outputs": [],
   "source": [
    "import simplejson as json\n",
    "import pprint"
   ]
  },
  {
   "cell_type": "code",
   "execution_count": 4,
   "metadata": {
    "collapsed": false,
    "deletable": true,
    "editable": true
   },
   "outputs": [
    {
     "name": "stdout",
     "output_type": "stream",
     "text": [
      "{\n",
      "    \"_id\": \"georgia--http://dlg.galileo.usg.edu/savnewspapers/id:svr1838-0934\",\n",
      "    \"_index\": \"dpla-20150410-144958\",\n",
      "    \"_score\": 0,\n",
      "    \"_source\": {\n",
      "        \"@context\": \"http://dp.la/api/items/context\",\n",
      "        \"@id\": \"http://dp.la/api/items/289a20b565b90c818bab641f40dd9f7c\",\n",
      "        \"@type\": \"ore:Aggregation\",\n",
      "        \"_id\": \"georgia--http://dlg.galileo.usg.edu/savnewspapers/id:svr1838-0934\",\n",
      "        \"_rev\": \"5-b3f5d485e21d2158ef34eeb23207a7f3\",\n",
      "        \"admin\": {\n",
      "            \"object_status\": 1,\n",
      "            \"sourceResource\": {\n",
      "                \"title\": \"Daily Savannah republican, Dec. 14, 1838\"\n",
      "            },\n",
      "            \"valid_after_enrich\": true,\n",
      "            \"validation_message\": null\n",
      "        },\n",
      "        \"aggregatedCHO\": \"#sourceResource\",\n",
      "        \"dataProvider\": \"University of Georgia. Libraries\",\n",
      "        \"id\": \"289a20b565b90c818bab641f40dd9f7c\",\n",
      "        \"ingestDate\": \"2015-12-02T05:47:44.929827Z\",\n",
      "        \"ingestType\": \"item\",\n",
      "        \"ingestionSequence\": 23,\n",
      "        \"isShownAt\": \"http://dlg.galileo.usg.edu/savnewspapers/id:svr1838-0934\",\n",
      "        \"object\": \"http://dlg.galileo.usg.edu/dlg/savn/do-th:svr1838-0934\",\n",
      "        \"originalRecord\": {\n",
      "            \"collection\": {\n",
      "                \"@id\": \"http://dp.la/api/collections/a72045095d4a687a170a4f300d8e0637\",\n",
      "                \"description\": \"DPLA: Include in Digital Public Library of America\",\n",
      "                \"id\": \"a72045095d4a687a170a4f300d8e0637\",\n",
      "                \"title\": \"DPLA: Include in Digital Public Library of America\"\n",
      "            },\n",
      "            \"contributor\": \"University of Georgia. Libraries\",\n",
      "            \"coverage\": [\n",
      "                \"Savannah (Ga.)\",\n",
      "                \"Chatham County (Ga.)\",\n",
      "                \"Savannah (Ga.)\",\n",
      "                \"Chatham County (Ga.)\",\n",
      "                \"1838-12-14\"\n",
      "            ],\n",
      "            \"date\": \"2014\",\n",
      "            \"datestamp\": \"2015-11-30\",\n",
      "            \"description\": [\n",
      "                \"The Savannah Historic Newspapers database is a project of the Digital Library of Georgia as part of Georgia HomePLACE. The project is supported with federal LSTA funds administered by the Institute of Museum and Library Services through the Georgia Public Library Service, a unit of the Board of Regents of the University System of Georgia.\",\n",
      "                \"Published by: F.S. Fell, 1829-1839.\",\n",
      "                \"The Savannah Historic Newspapers database is a project of the Digital Library of Georgia as part of Georgia HomePLACE. The project is supported with federal LSTA funds administered by the Institute of Museum and Library Services through the Georgia Public Library Service, a unit of the Board of Regents of the University System of Georgia.\",\n",
      "                \"Published by: F.S. Fell, 1829-1839.\"\n",
      "            ],\n",
      "            \"format\": \"image/jp2\",\n",
      "            \"handle\": \"http://dlg.galileo.usg.edu/savnewspapers/id:svr1838-0934\",\n",
      "            \"id\": \"oai:dlg.galileo.usg.edu:dlg_savn_svr1838-0934\",\n",
      "            \"label\": \"Daily Savannah republican, Dec. 14, 1838\",\n",
      "            \"provider\": {\n",
      "                \"@id\": \"http://dp.la/api/contributor/georgia\",\n",
      "                \"name\": \"Digital Library of Georgia\"\n",
      "            },\n",
      "            \"publisher\": \"Athens, Ga. : Digital Library of Georgia\",\n",
      "            \"rights\": \"Public domain\",\n",
      "            \"setSpec\": [\n",
      "                \"meta:dlg:savn\",\n",
      "                \"meta:gnp:savn\",\n",
      "                \"dpla\"\n",
      "            ],\n",
      "            \"status\": [],\n",
      "            \"subject\": [\n",
      "                \"Savannah (Ga.)--Newspapers\",\n",
      "                \"Chatham County (Ga.)--Newspapers\",\n",
      "                \"Savannah (Ga.)--Newspapers\",\n",
      "                \"Chatham County (Ga.)--Newspapers\"\n",
      "            ],\n",
      "            \"title\": \"Daily Savannah republican, Dec. 14, 1838\",\n",
      "            \"type\": [\n",
      "                \"Text\",\n",
      "                \"Newspapers\",\n",
      "                \"Text\",\n",
      "                \"Newspapers\"\n",
      "            ]\n",
      "        },\n",
      "        \"provider\": {\n",
      "            \"@id\": \"http://dp.la/api/contributor/georgia\",\n",
      "            \"name\": \"Digital Library of Georgia\"\n",
      "        },\n",
      "        \"sourceResource\": {\n",
      "            \"@id\": \"http://dp.la/api/items/289a20b565b90c818bab641f40dd9f7c#sourceResource\",\n",
      "            \"collection\": {\n",
      "                \"@id\": \"http://dp.la/api/collections/a72045095d4a687a170a4f300d8e0637\",\n",
      "                \"description\": \"DPLA: Include in Digital Public Library of America\",\n",
      "                \"id\": \"a72045095d4a687a170a4f300d8e0637\",\n",
      "                \"title\": \"DPLA: Include in Digital Public Library of America\"\n",
      "            },\n",
      "            \"date\": {\n",
      "                \"begin\": \"1838-12-14\",\n",
      "                \"displayDate\": \"1838-12-14\",\n",
      "                \"end\": \"1838-12-14\"\n",
      "            },\n",
      "            \"description\": [\n",
      "                \"The Savannah Historic Newspapers database is a project of the Digital Library of Georgia as part of Georgia HomePLACE. The project is supported with federal LSTA funds administered by the Institute of Museum and Library Services through the Georgia Public Library Service, a unit of the Board of Regents of the University System of Georgia.\",\n",
      "                \"Published by: F.S. Fell, 1829-1839.\",\n",
      "                \"The Savannah Historic Newspapers database is a project of the Digital Library of Georgia as part of Georgia HomePLACE. The project is supported with federal LSTA funds administered by the Institute of Museum and Library Services through the Georgia Public Library Service, a unit of the Board of Regents of the University System of Georgia.\",\n",
      "                \"Published by: F.S. Fell, 1829-1839.\"\n",
      "            ],\n",
      "            \"rights\": \"Public domain\",\n",
      "            \"spatial\": [\n",
      "                {\n",
      "                    \"coordinates\": \"32.08354, -81.09983\",\n",
      "                    \"country\": \"United States\",\n",
      "                    \"county\": \"Chatham County\",\n",
      "                    \"name\": \"Savannah (Ga.)\",\n",
      "                    \"state\": \"Georgia\"\n",
      "                }\n",
      "            ],\n",
      "            \"stateLocatedIn\": [\n",
      "                {\n",
      "                    \"name\": \"Athens, Ga. : Digital Library of Georgia\"\n",
      "                }\n",
      "            ],\n",
      "            \"subject\": [\n",
      "                {\n",
      "                    \"name\": \"Savannah (Ga.)--Newspapers\"\n",
      "                },\n",
      "                {\n",
      "                    \"name\": \"Chatham County (Ga.)--Newspapers\"\n",
      "                }\n",
      "            ],\n",
      "            \"title\": \"Daily Savannah republican, Dec. 14, 1838\",\n",
      "            \"type\": \"text\"\n",
      "        }\n",
      "    },\n",
      "    \"_type\": \"item\"\n",
      "}\n"
     ]
    }
   ],
   "source": [
    "def print_json(json_obj, skipkeys=False, indent=2, sort_keys=False):\n",
    "    \n",
    "    print json.dumps(json_obj, skipkeys=skipkeys, indent=indent, sort_keys=sort_keys)\n",
    "\n",
    "print_json(georgia[0], indent=4, sort_keys=True)"
   ]
  },
  {
   "cell_type": "markdown",
   "metadata": {
    "deletable": true,
    "editable": true
   },
   "source": [
    "#### LOAD FILE"
   ]
  },
  {
   "cell_type": "code",
   "execution_count": 3,
   "metadata": {
    "code_folding": [],
    "collapsed": false,
    "deletable": true,
    "editable": true
   },
   "outputs": [],
   "source": [
    "# # HELPFUL LINKS:\n",
    "# # 1. http://zetcode.com/python/simplejson/  \n",
    "\n",
    "\n",
    "databases = 'data/databases/'\n",
    "state = 'georgia/'\n",
    "file_name = 'georgia_25e1.json'\n",
    "\n",
    "with open(databases + state + file_name) as json_file:\n",
    "    georgia = json.load(json_file)"
   ]
  },
  {
   "cell_type": "code",
   "execution_count": 99,
   "metadata": {
    "collapsed": false,
    "deletable": true,
    "editable": true
   },
   "outputs": [
    {
     "name": "stdout",
     "output_type": "stream",
     "text": [
      "county: True \tcountry: True \tstate: True \tname: True \tcoordinates: True \t"
     ]
    }
   ],
   "source": [
    "# # # SPATIAL\n",
    "# # {\"county\": \"Chatham County\", \"country\": \"United States\", \"state\": \"Georgia\", \n",
    "# #  \"name\": \"Savannah (Ga.)\",\"coordinates\": \"32.08354, -81.09983\"}\n",
    "\n",
    "# # # STATELOCATEDIN\n",
    "# # {\"name\": \"Athens, Ga. : Digital Library of Georgia\"}\n",
    "\n",
    "spatial_keys = ['county', 'country', 'state', 'name', 'coordinates']\n",
    "\n",
    "try:\n",
    "    spatial = georgia[5]['_source']['sourceResource']['spatial'][0]\n",
    "    \n",
    "    for spatial_key in spatial_keys:\n",
    "#         print spatial_key\n",
    "        \n",
    "        if spatial_key in spatial:\n",
    "            exists = True\n",
    "        else:\n",
    "            exists = False\n",
    "            \n",
    "        print spatial_key + ':', exists, '\\t',\n",
    "\n",
    "#     print_json(spatial, indent=2)\n",
    "\n",
    "except Exception as err:\n",
    "    \n",
    "    print err.__class__.__name__ + ' ' + str(err)\n",
    "#     print traceback"
   ]
  },
  {
   "cell_type": "markdown",
   "metadata": {
    "deletable": true,
    "editable": true
   },
   "source": [
    "#### SPATIAL"
   ]
  },
  {
   "cell_type": "code",
   "execution_count": 121,
   "metadata": {
    "collapsed": false,
    "deletable": true,
    "editable": true
   },
   "outputs": [],
   "source": [
    "count = 0\n",
    "spatial_keys = ['county', 'country', 'state', 'name', 'coordinates']\n",
    "\n",
    "for i, record in enumerate(georgia):\n",
    "    \n",
    "    try:\n",
    "        \n",
    "        sourceResource = record['_source']['sourceResource']\n",
    "        spatial = sourceResource['spatial'][0]\n",
    "        \n",
    "#         print str(i) + '.',\n",
    "        \n",
    "#         for spatial_key in spatial_keys:\n",
    "        \n",
    "#             if spatial_key in spatial:\n",
    "#                 exists = True\n",
    "#             else:\n",
    "#                 exists = False\n",
    "\n",
    "#             print spatial_key + ':', exists, '\\t',\n",
    "#         print ''\n",
    "        if spatial['coordinates']:\n",
    "            print str(i) +'.', spatial['coordinates']\n",
    "        \n",
    "    except Exception as err:\n",
    "        print str(i)+'.', err.__class__.__name__ + ': ' + str(err)\n",
    "#         count += 1\n",
    "\n",
    "# print count"
   ]
  },
  {
   "cell_type": "code",
   "execution_count": null,
   "metadata": {
    "collapsed": true,
    "deletable": true,
    "editable": true
   },
   "outputs": [],
   "source": [
    "NO SPATIAL INFORMATION: 15\n",
    "5. KeyError 'spatial'\n",
    "\n",
    "\n",
    "COUNTY: 207\n",
    "Name + County\n",
    "\n",
    "NO COUNTY: 28\n",
    "89. KeyError: 'county'\n",
    "    \n",
    "    \n",
    "COUNTRY:\n",
    "9. United States (231)\n",
    "10. Canada (1)\n",
    "    \n",
    "NO COUNTRY: 3\n",
    "119. KeyError: 'country'\n",
    "\n",
    "    \n",
    "STATE: 229\n",
    "0. Georgia: (223)\n",
    "10. Yukan (1)\n",
    "47. Mississippi (1)\n",
    "89. Florida (3)\n",
    "150. Ohio (1)\n",
    "\n",
    "NO STATE: 6\n",
    "240. KeyError: 'state'\n",
    "\n",
    "    \n",
    "NAME:\n",
    "0. Savannah (Ga.)\n",
    "2. Downtown, GA\n",
    "3. United States\n",
    "4. Georgia\n",
    "10. Dawson (Yukon)\n",
    "11. Gordon County (Ga.)\n",
    "45. Chicago (Ill.)\n",
    "47. Mississippi\n",
    "112. Houston Street (Atlanta, Ga.)\n",
    "119. Atlanta Metropolitan Area (Ga.)\n",
    "194. Dalton (Whitfield County, Ga.)\n",
    "\n",
    "NO NAME: 0\n",
    "\n",
    "\n",
    "COORDINATES:\n",
    "0. 32.08354, -81.09983\n",
    "\n",
    "NO COORDINATES: 6"
   ]
  },
  {
   "cell_type": "markdown",
   "metadata": {
    "deletable": true,
    "editable": true
   },
   "source": [
    "#### STATE LOCATED IN"
   ]
  },
  {
   "cell_type": "code",
   "execution_count": 88,
   "metadata": {
    "collapsed": false,
    "deletable": true,
    "editable": true
   },
   "outputs": [],
   "source": [
    "count = 0\n",
    "\n",
    "for i, record in enumerate(georgia):\n",
    "    \n",
    "    try:\n",
    "        \n",
    "        sourceResource = record['_source']['sourceResource']\n",
    "        stateLocatedIn = sourceResource['stateLocatedIn'][0]\n",
    "\n",
    "        if not (':' in stateLocatedIn['name']):\n",
    "            print str(i) +'.', stateLocatedIn['name']\n",
    "#             count += 1\n",
    "    except Exception as err:\n",
    "        print str(i)+'.', err.__class__.__name__ + ': ' + str(err)\n",
    "#         count += 1\n",
    "\n",
    "# print count"
   ]
  },
  {
   "cell_type": "code",
   "execution_count": null,
   "metadata": {
    "collapsed": true,
    "deletable": true,
    "editable": true
   },
   "outputs": [],
   "source": [
    "STATE EXPLICIT: 200\n",
    "0. Athens, Ga. : Digital Library of Georgia\n",
    "6. Savannah (Ga.) : Asa H. Gordon Library in association with the Internet Archive\n",
    "47. Jackson (Miss.)] : Mississippi Dept. of Archives and History\n",
    "117. Athens, Ga.] : Digital Library of Georgia in association with the Troup County Archives\n",
    "174. Augusta (Ga.) : Reese Library in association with the Internet Archive\n",
    "\n",
    "STATE INFERRED: 34\n",
    "1. Georgia State University Library\n",
    "246. Special Collections and Archives, Georgia State University Library\n",
    "111. Kenan Research Center, Atlanta History Center, 130 West Paces Ferry Road, Atlanta, GA 30305\n",
    "\n",
    "LOCATION IS NOT A STATE: 5\n",
    "23. Knowledge Box\n",
    "79. New Georgia Encyclopedia\n",
    "94. Digital Library of Georgia\n",
    "\n",
    "NO HOLDING INFORMATION: 11\n",
    "5. KeyError 'stateLocatedIn'"
   ]
  },
  {
   "cell_type": "code",
   "execution_count": 17,
   "metadata": {
    "collapsed": false
   },
   "outputs": [
    {
     "data": {
      "text/plain": [
       "23"
      ]
     },
     "execution_count": 17,
     "metadata": {},
     "output_type": "execute_result"
    }
   ],
   "source": [
    "georgia[0]['_source']['ingestionSequence']"
   ]
  },
  {
   "cell_type": "markdown",
   "metadata": {},
   "source": [
    "#### COUNTER"
   ]
  },
  {
   "cell_type": "code",
   "execution_count": 39,
   "metadata": {
    "collapsed": false
   },
   "outputs": [
    {
     "name": "stdout",
     "output_type": "stream",
     "text": [
      "FIELDS MISSING: 250\n"
     ]
    }
   ],
   "source": [
    "count = 0\n",
    "\n",
    "for i, record in enumerate(georgia):\n",
    "    \n",
    "    try:\n",
    "        \n",
    "        sourceResource = record['_source']['sourceResource']['physicalMedium']\n",
    "#         val = sourceResource['spatial'][0]['distance']\n",
    "        \n",
    "        print str(i) + '.', sourceResource, 'ID:', record['_source']['id']\n",
    "        \n",
    "#             count += 1\n",
    "    except Exception as err:\n",
    "#         print str(i)+'.', err.__class__.__name__ + ': ' + str(err)\n",
    "        count += 1\n",
    "\n",
    "print 'FIELDS MISSING:', count"
   ]
  },
  {
   "cell_type": "code",
   "execution_count": 40,
   "metadata": {
    "collapsed": false
   },
   "outputs": [],
   "source": [
    "# MISSING FIELDS\n",
    "\n",
    "# CONTRIBUTOR (DC): 250\n",
    "# EXTENT (DC): 250\n",
    "# PHYSICAL MEDIUM (DC): 250\n",
    "# PUBLISHER (DC): 250\n",
    "# TEMPORAL (DPLA): 250\n",
    "# INTERMEDIATE PROVIDER (DPLA): 250\n",
    "# SPATIAL DISTANCE (DPLA): 250\n",
    "# SPATIAL REGION (DPLA): 250\n",
    "    \n",
    "# NOT YET IN DATABASE\n",
    "# SUBJECT ID\n",
    "# SUBJECT TYPE"
   ]
  }
 ],
 "metadata": {
  "kernelspec": {
   "display_name": "Python 2",
   "language": "python",
   "name": "python2"
  },
  "language_info": {
   "codemirror_mode": {
    "name": "ipython",
    "version": 2
   },
   "file_extension": ".py",
   "mimetype": "text/x-python",
   "name": "python",
   "nbconvert_exporter": "python",
   "pygments_lexer": "ipython2",
   "version": "2.7.13"
  },
  "toc": {
   "colors": {
    "hover_highlight": "#DAA520",
    "navigate_num": "#000000",
    "navigate_text": "#333333",
    "running_highlight": "#FF0000",
    "selected_highlight": "#FFD700",
    "sidebar_border": "#EEEEEE",
    "wrapper_background": "#FFFFFF"
   },
   "moveMenuLeft": true,
   "nav_menu": {
    "height": "12px",
    "width": "252px"
   },
   "navigate_menu": true,
   "number_sections": true,
   "sideBar": true,
   "threshold": 4,
   "toc_cell": false,
   "toc_section_display": "block",
   "toc_window_display": false,
   "widenNotebook": false
  }
 },
 "nbformat": 4,
 "nbformat_minor": 2
}
