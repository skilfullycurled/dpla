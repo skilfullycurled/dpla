{
 "cells": [
  {
   "cell_type": "code",
   "execution_count": 35,
   "metadata": {
    "collapsed": true,
    "deletable": true,
    "editable": true
   },
   "outputs": [],
   "source": [
    "# https://github.com/bibliotechy/DPyLA\n",
    "# https://pro.dp.la/developers/field-reference#sourceResource-subject"
   ]
  },
  {
   "cell_type": "code",
   "execution_count": 33,
   "metadata": {
    "collapsed": false,
    "deletable": true,
    "editable": true
   },
   "outputs": [
    {
     "name": "stdout",
     "output_type": "stream",
     "text": [
      "all set.\n"
     ]
    }
   ],
   "source": [
    "from configparser import ConfigParser\n",
    "import simplejson as json\n",
    "\n",
    "import dpla\n",
    "from dpla.api import DPLA\n",
    "\n",
    "import pprint\n",
    "\n",
    "print 'all set.'"
   ]
  },
  {
   "cell_type": "markdown",
   "metadata": {
    "deletable": true,
    "editable": true
   },
   "source": [
    "### REMOTE API"
   ]
  },
  {
   "cell_type": "markdown",
   "metadata": {},
   "source": [
    "If you do not wish for others to see your API Key, then add a file that adheres to the specificaitons laid out in the [ConfigParser](https://docs.python.org/2/library/configparser.html) documentation."
   ]
  },
  {
   "cell_type": "code",
   "execution_count": 32,
   "metadata": {
    "collapsed": false,
    "deletable": true,
    "editable": true
   },
   "outputs": [],
   "source": [
    "config = ConfigParser()\n",
    "config.read(u'data/api_keys.txt') # REQUIRES UNICODE TO AVOID DEPRECATION WARNING\n",
    "api_key = config.get('dpla', 'api_key')\n",
    "\n",
    "dpla = DPLA(api_key)\n",
    "\n",
    "# print 'Product Key %s initalized, we are a go!' % api_key"
   ]
  },
  {
   "cell_type": "code",
   "execution_count": 33,
   "metadata": {
    "collapsed": false,
    "deletable": true,
    "editable": true
   },
   "outputs": [],
   "source": [
    "#DPLA URL: https://dp.la/item/0a9d7daa792c26aa0288e23b843176ee\n",
    "#ORIGINAL URL: https://dlg.usg.edu/record/gcfa_gsac_gsac492\n",
    "\n",
    "pp = pprint.PrettyPrinter(depth=2)\n",
    "\n",
    "item_id = \"0a9d7daa792c26aa0288e23b843176ee\"\n",
    "\n",
    "record = dpla.fetch_by_id([item_id])\n"
   ]
  },
  {
   "cell_type": "code",
   "execution_count": null,
   "metadata": {
    "collapsed": true,
    "deletable": true,
    "editable": true
   },
   "outputs": [],
   "source": [
    "# pp.pprint(record.items[0]['sourceResource'])"
   ]
  },
  {
   "cell_type": "code",
   "execution_count": 34,
   "metadata": {
    "collapsed": false,
    "deletable": true,
    "editable": true
   },
   "outputs": [],
   "source": [
    "# pp.pprint(record.items[0]['originalRecord'])"
   ]
  },
  {
   "cell_type": "code",
   "execution_count": 31,
   "metadata": {
    "collapsed": false,
    "deletable": true,
    "editable": true
   },
   "outputs": [
    {
     "name": "stdout",
     "output_type": "stream",
     "text": [
      "DPLA SUBJECTS\n",
      "[{u'name': u'Fiberwork--Georgia'},\n",
      " {u'name': u'Fiberwork--United States'},\n",
      " {u'name': u'Art--Georgia'},\n",
      " {u'name': u'Textile design, Abstract'}]\n"
     ]
    }
   ],
   "source": [
    "print 'DPLA SUBJECTS'\n",
    "pp.pprint(record.items[0]['sourceResource']['subject'])"
   ]
  },
  {
   "cell_type": "code",
   "execution_count": 32,
   "metadata": {
    "collapsed": false,
    "deletable": true,
    "editable": true
   },
   "outputs": [
    {
     "name": "stdout",
     "output_type": "stream",
     "text": [
      "ORIGINAL RECORD SUBJECTS\n",
      "[u'Fiberwork--Georgia',\n",
      " u'Fiberwork--United States',\n",
      " u'Art--Georgia',\n",
      " u'Textile design, Abstract']\n"
     ]
    }
   ],
   "source": [
    "print 'ORIGINAL RECORD SUBJECTS'\n",
    "pp.pprint(record.items[0]['originalRecord']['subject'])"
   ]
  }
 ],
 "metadata": {
  "kernelspec": {
   "display_name": "Python 2",
   "language": "python",
   "name": "python2"
  },
  "language_info": {
   "codemirror_mode": {
    "name": "ipython",
    "version": 2
   },
   "file_extension": ".py",
   "mimetype": "text/x-python",
   "name": "python",
   "nbconvert_exporter": "python",
   "pygments_lexer": "ipython2",
   "version": "2.7.13"
  },
  "toc": {
   "colors": {
    "hover_highlight": "#DAA520",
    "navigate_num": "#000000",
    "navigate_text": "#333333",
    "running_highlight": "#FF0000",
    "selected_highlight": "#FFD700",
    "sidebar_border": "#EEEEEE",
    "wrapper_background": "#FFFFFF"
   },
   "moveMenuLeft": true,
   "nav_menu": {
    "height": "12px",
    "width": "252px"
   },
   "navigate_menu": true,
   "number_sections": true,
   "sideBar": true,
   "threshold": 4,
   "toc_cell": false,
   "toc_section_display": "block",
   "toc_window_display": false,
   "widenNotebook": false
  }
 },
 "nbformat": 4,
 "nbformat_minor": 2
}
