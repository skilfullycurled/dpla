{
 "cells": [
  {
   "cell_type": "code",
   "execution_count": 35,
   "metadata": {
    "collapsed": true,
    "deletable": true,
    "editable": true
   },
   "outputs": [],
   "source": [
    "# https://github.com/bibliotechy/DPyLA\n",
    "# https://pro.dp.la/developers/field-reference#sourceResource-subject"
   ]
  },
  {
   "cell_type": "code",
   "execution_count": 72,
   "metadata": {
    "collapsed": false,
    "deletable": true,
    "editable": true
   },
   "outputs": [
    {
     "name": "stdout",
     "output_type": "stream",
     "text": [
      "all set.\n"
     ]
    }
   ],
   "source": [
    "from configparser import ConfigParser\n",
    "import simplejson as json\n",
    "from datetime import datetime, timedelta, time\n",
    "\n",
    "import dpla\n",
    "from dpla.api import DPLA\n",
    "\n",
    "import pprint\n",
    "\n",
    "print 'all set.'"
   ]
  },
  {
   "cell_type": "markdown",
   "metadata": {
    "deletable": true,
    "editable": true
   },
   "source": [
    "### REMOTE API"
   ]
  },
  {
   "cell_type": "markdown",
   "metadata": {},
   "source": [
    "If you do not wish for others to see your API Key, then add a file that adheres to the specificaitons laid out in the [ConfigParser](https://docs.python.org/2/library/configparser.html) documentation."
   ]
  },
  {
   "cell_type": "code",
   "execution_count": 36,
   "metadata": {
    "collapsed": false,
    "deletable": true,
    "editable": true
   },
   "outputs": [],
   "source": [
    "config = ConfigParser()\n",
    "config.read(u'data/api_keys.txt') # REQUIRES UNICODE TO AVOID DEPRECATION WARNING\n",
    "api_key = config.get('dpla', 'api_key')\n",
    "\n",
    "dpla = DPLA(api_key)\n",
    "\n",
    "# print 'Product Key %s initalized, we are a go!' % api_key"
   ]
  },
  {
   "cell_type": "code",
   "execution_count": 67,
   "metadata": {
    "collapsed": false,
    "deletable": true,
    "editable": true
   },
   "outputs": [],
   "source": [
    "#DPLA URL: https://dp.la/item/0a9d7daa792c26aa0288e23b843176ee\n",
    "#ORIGINAL URL: https://dlg.usg.edu/record/gcfa_gsac_gsac492\n",
    "\n",
    "pp = pprint.PrettyPrinter(depth=2)\n",
    "\n",
    "textile_id = \"0a9d7daa792c26aa0288e23b843176ee\"\n",
    "news_id = '000027b7481890126251e17b7c53fc32'\n",
    "\n",
    "textile = dpla.fetch_by_id([textile_id]).items[0]\n",
    "news = dpla.fetch_by_id([news_id]).items[0]"
   ]
  },
  {
   "cell_type": "markdown",
   "metadata": {},
   "source": [
    "### Ingestion Fields"
   ]
  },
  {
   "cell_type": "markdown",
   "metadata": {},
   "source": [
    "INGESTION PIPELINE: Geo Location >> Library >> Digitization >> Provider >> Data Provider >> DPLA"
   ]
  },
  {
   "cell_type": "markdown",
   "metadata": {},
   "source": [
    "#### Data Provider"
   ]
  },
  {
   "cell_type": "code",
   "execution_count": 68,
   "metadata": {
    "collapsed": false,
    "deletable": true,
    "editable": true
   },
   "outputs": [
    {
     "data": {
      "text/plain": [
       "u'Georgia Council for the Arts'"
      ]
     },
     "execution_count": 68,
     "metadata": {},
     "output_type": "execute_result"
    }
   ],
   "source": [
    "# DEFINITION (EDM): The name or identifier of the organization who contributes data indirectly to an \n",
    "# aggregation service.\n",
    "\n",
    "# EXAMPLE: The Arts and Theatre Institute in Prague is a dataProvider via the Linked Heritage project\n",
    "\n",
    "textile['dataProvider']"
   ]
  },
  {
   "cell_type": "markdown",
   "metadata": {},
   "source": [
    "#### Provider"
   ]
  },
  {
   "cell_type": "code",
   "execution_count": 69,
   "metadata": {
    "collapsed": false
   },
   "outputs": [
    {
     "data": {
      "text/plain": [
       "u'Digital Library of Georgia'"
      ]
     },
     "execution_count": 69,
     "metadata": {},
     "output_type": "execute_result"
    }
   ],
   "source": [
    "# DEFINITION (EDM): The name or identifier of the organization who delivers data directly to an aggrecation service.\n",
    "\n",
    "# EXAMPLE: The Linked Heritage project is an provider for digital objects from \n",
    "# The Arts and Theatre Institute in Prague\n",
    "\n",
    "textile['provider']['name']"
   ]
  },
  {
   "cell_type": "markdown",
   "metadata": {},
   "source": [
    "#### Ingestion Date"
   ]
  },
  {
   "cell_type": "code",
   "execution_count": 93,
   "metadata": {
    "collapsed": false
   },
   "outputs": [
    {
     "name": "stdout",
     "output_type": "stream",
     "text": [
      "ORIGINAL ISO 8601: \t2018-06-12T12:49:52.107216Z\n",
      "FORMATTED: \t\t2018-06-12 12:49:52\n"
     ]
    }
   ],
   "source": [
    "# DEFINITION (DPLA): The ISO 8601 date on which the original record was imported into the DPLA database.\n",
    "\n",
    "# EXAMPLE: The Linked Heritage project provided the digital record of a CHO from The Arts and Theatre \n",
    "# Institute of Prague and it was \"put in\" the DPLA database on 2018-06-12 at 12:49:52PM\n",
    "\n",
    "to_datetime = datetime.strptime(textile['ingestDate'], '%Y-%m-%dT%H:%M:%S.%fZ')\n",
    "str_datetime = datetime.strftime(to_datetime, '%Y-%m-%d %H:%M:%S')\n",
    "print 'ORIGINAL ISO 8601:', '\\t', textile['ingestDate']\n",
    "print 'FORMATTED:', '\\t\\t', str_datetime"
   ]
  },
  {
   "cell_type": "markdown",
   "metadata": {},
   "source": [
    "### CHO Fields (sourceResource)"
   ]
  },
  {
   "cell_type": "code",
   "execution_count": 95,
   "metadata": {
    "collapsed": true
   },
   "outputs": [],
   "source": [
    "textile_cho = textile['sourceResource']\n",
    "news_cho = news['sourceResource']"
   ]
  },
  {
   "cell_type": "markdown",
   "metadata": {},
   "source": [
    "#### Format"
   ]
  },
  {
   "cell_type": "code",
   "execution_count": 48,
   "metadata": {
    "collapsed": false
   },
   "outputs": [
    {
     "data": {
      "text/plain": [
       "[u'1 wall hanging', u'Fiber']"
      ]
     },
     "execution_count": 48,
     "metadata": {},
     "output_type": "execute_result"
    }
   ],
   "source": [
    "# DEFINITION (DC): The file format, physical medium, or dimensions of the resource.\n",
    "\n",
    "# EXAMPLE: A wall hanging made of fibers\n",
    "textile_cho['format']"
   ]
  },
  {
   "cell_type": "markdown",
   "metadata": {},
   "source": [
    "#### Title"
   ]
  },
  {
   "cell_type": "code",
   "execution_count": 49,
   "metadata": {
    "collapsed": false
   },
   "outputs": [
    {
     "data": {
      "text/plain": [
       "u'Homage to J.H'"
      ]
     },
     "execution_count": 49,
     "metadata": {},
     "output_type": "execute_result"
    }
   ],
   "source": [
    "# DEFINITION (DC): A name given to the CHO.  Typically, a title will be a name by which the resrouce is formally known.\n",
    "    \n",
    "# EXAMPLE: \"Gulliver's Travels\" (with an en language tag) and \"Les Voyages de Gulliver\" (with a fr language tag) are\n",
    "# two titles for the same work by Jonathan Swift\n",
    "\n",
    "textile_cho['title']"
   ]
  },
  {
   "cell_type": "markdown",
   "metadata": {},
   "source": [
    "#### Collection"
   ]
  },
  {
   "cell_type": "code",
   "execution_count": 57,
   "metadata": {
    "collapsed": false,
    "deletable": true,
    "editable": true
   },
   "outputs": [
    {
     "data": {
      "text/plain": [
       "{u'@id': u'http://dp.la/api/collections/a72045095d4a687a170a4f300d8e0637',\n",
       " u'description': u'DPLA: Include in Digital Public Library of America',\n",
       " u'id': u'a72045095d4a687a170a4f300d8e0637',\n",
       " u'title': u'DPLA: Include in Digital Public Library of America'}"
      ]
     },
     "execution_count": 57,
     "metadata": {},
     "output_type": "execute_result"
    }
   ],
   "source": [
    "# DEFINITION (DCMITYPE): An aggregation of resources, described as a group.  Parts may be sepperately described.\n",
    "    \n",
    "# EXAMPLE: A university could have a collection of Emily Dickinson poems.  If so the DPLA would have a colleciton\n",
    "# object representing this conceptually.\n",
    "\n",
    "textile_cho['collection']"
   ]
  },
  {
   "cell_type": "markdown",
   "metadata": {},
   "source": [
    "#### Creator"
   ]
  },
  {
   "cell_type": "code",
   "execution_count": 51,
   "metadata": {
    "collapsed": false
   },
   "outputs": [
    {
     "data": {
      "text/plain": [
       "u'Reiss, Zenaide'"
      ]
     },
     "execution_count": 51,
     "metadata": {},
     "output_type": "execute_result"
    }
   ],
   "source": [
    "# DEFINITION (DC): An entity primarily responsible for making the resource.  \n",
    "# This may be a person, organization, or service.\n",
    "    \n",
    "# EXAMPLE: Leonardo da Vinci was the creator of the Mona Lisa\n",
    "\n",
    "textile_cho['creator']"
   ]
  },
  {
   "cell_type": "markdown",
   "metadata": {},
   "source": [
    "#### Description"
   ]
  },
  {
   "cell_type": "markdown",
   "metadata": {},
   "source": [
    "Q: How can we tell what things are actually descriptions in the sense of the DC definiton? For example, the description of the CHO below is a description of the project, not the artifact."
   ]
  },
  {
   "cell_type": "code",
   "execution_count": 98,
   "metadata": {
    "collapsed": false
   },
   "outputs": [
    {
     "name": "stdout",
     "output_type": "stream",
     "text": [
      "The Savannah Historic Newspapers database is a project of the Digital Library of Georgia as part of Georgia HomePLACE. The project is supported with federal LSTA funds administered by the Institute of Museum and Library Services through the Georgia Public Library Service, a unit of the Board of Regents of the University System of Georgia.\n"
     ]
    }
   ],
   "source": [
    "# DEFINITION (DC): A description of the original analog or born digital artifact.\n",
    "\n",
    "# EXAMPLE: Hard to give one because not all descriptions are descriptions, see below.\n",
    "\n",
    "news_cho['description'] # textile_cho['description'] DOES NOT HAVE A DESCRIPTION"
   ]
  },
  {
   "cell_type": "markdown",
   "metadata": {},
   "source": [
    "#### Spatial"
   ]
  },
  {
   "cell_type": "markdown",
   "metadata": {},
   "source": [
    "Q: Define represents vs. depicts?"
   ]
  },
  {
   "cell_type": "code",
   "execution_count": 52,
   "metadata": {
    "collapsed": false
   },
   "outputs": [
    {
     "data": {
      "text/plain": [
       "[{u'coordinates': u'32.165622, -82.900075',\n",
       "  u'country': u'United States',\n",
       "  u'county': u'Dodge County',\n",
       "  u'name': u'Dodge County, GA',\n",
       "  u'state': u'Georgia'}]"
      ]
     },
     "execution_count": 52,
     "metadata": {},
     "output_type": "execute_result"
    }
   ],
   "source": [
    "# DEFINITION (DC): The spatial characteristics of the CHO.  Information about the spatial characteristics of the\n",
    "# orignal analog or born digital object, i.e. what the CHO represents or depicts in terms of space.\n",
    "    \n",
    "# EXAMPLE: This may be a named place, a location, a spatial coordinate, or named administrative entity.\n",
    "\n",
    "cho['spatial']"
   ]
  },
  {
   "cell_type": "markdown",
   "metadata": {},
   "source": [
    "#### Date"
   ]
  },
  {
   "cell_type": "markdown",
   "metadata": {},
   "source": [
    "Q: Unclear.  Can be date of creation or artists lifespan.  If date of creation, then why a period?  \n",
    "Q: Why a span vs. a single date repeated three times (as in other CHO's)?  \n",
    "Q: Probably differs in specificiy (e.g. year, vs. year, month, and day being the 1st).\n",
    "Q: What about outright incorrect dates (ex. [La-Z-Boy Strike](https://dp.la/item/00004f9b0cfd8f7317d09616d7691d4d))"
   ]
  },
  {
   "cell_type": "code",
   "execution_count": 53,
   "metadata": {
    "collapsed": false
   },
   "outputs": [
    {
     "data": {
      "text/plain": [
       "{u'begin': u'1950', u'displayDate': u'1950/1999', u'end': u'1999'}"
      ]
     },
     "execution_count": 53,
     "metadata": {},
     "output_type": "execute_result"
    }
   ],
   "source": [
    "# DEFINITION (DC): A point or period of time associated with an event in the lifecycle of the CHO.\n",
    "#     BEGIN (EDM): Date/time of the start of a time span (inclusive).\n",
    "#     DISPLAY DATE (DPLA): The date to be displayed by an application seeking to provide a date to accompany \n",
    "#                          the sourceResource. \n",
    "#     END (EDM): Date/time of the end of a time span (inclusive).\n",
    "    \n",
    "# EXAMPLE: The Mona Lisa could have a date of 1506\n",
    "\n",
    "cho['date']"
   ]
  },
  {
   "cell_type": "markdown",
   "metadata": {},
   "source": [
    "#### Subject"
   ]
  },
  {
   "cell_type": "markdown",
   "metadata": {},
   "source": [
    "Q: A term from a \"controlled vocabulary\" can be used.  Can the DPLA ever have a controlled vocabulary?"
   ]
  },
  {
   "cell_type": "code",
   "execution_count": 54,
   "metadata": {
    "collapsed": false
   },
   "outputs": [
    {
     "data": {
      "text/plain": [
       "[{u'name': u'Fiberwork--Georgia'},\n",
       " {u'name': u'Fiberwork--United States'},\n",
       " {u'name': u'Art--Georgia'},\n",
       " {u'name': u'Textile design, Abstract'}]"
      ]
     },
     "execution_count": 54,
     "metadata": {},
     "output_type": "execute_result"
    }
   ],
   "source": [
    "# DEFINITION (DC): Topic of the resource\n",
    "    \n",
    "# EXAMPLE: Fiberwork--Georgia, Textile design, Abstract.  Term from a controlled vocabulary can be used.  \n",
    "\n",
    "cho['subject']"
   ]
  },
  {
   "cell_type": "markdown",
   "metadata": {},
   "source": [
    "#### Type"
   ]
  },
  {
   "cell_type": "markdown",
   "metadata": {},
   "source": [
    "Q: Does DPLA use all DCMI types or just the subsets we see?"
   ]
  },
  {
   "cell_type": "code",
   "execution_count": 55,
   "metadata": {
    "collapsed": false
   },
   "outputs": [
    {
     "data": {
      "text/plain": [
       "[u'image', u'physical object']"
      ]
     },
     "execution_count": 55,
     "metadata": {},
     "output_type": "execute_result"
    }
   ],
   "source": [
    "# DEFINITION (DCMI): Nature of genre of the CHO.  Collection , Dataset , Event , Image , InteractiveResource , \n",
    "# MovingImage , PhysicalObject , Service , Software , Sound , StillImage , Text\n",
    "    \n",
    "# EXAMPLE: The type of the \"Savannah Morning News\" is \"text\". \n",
    "\n",
    "cho['type']"
   ]
  },
  {
   "cell_type": "markdown",
   "metadata": {},
   "source": [
    "### MISSING FIELDS FROM 250 DOCS"
   ]
  },
  {
   "cell_type": "markdown",
   "metadata": {},
   "source": [
    "**MISSING FIELDS**  \n",
    "  \n",
    "CONTRIBUTOR (DC): 250  \n",
    "EXTENT (DC): 250  \n",
    "PHYSICAL MEDIUM (DC): 250  \n",
    "PUBLISHER (DC): 250  \n",
    "TEMPORAL (DPLA): 250  \n",
    "INTERMEDIATE PROVIDER (DPLA): 250  \n",
    "SPATIAL DISTANCE (DPLA): 250  \n",
    "SPATIAL REGION (DPLA): 250  \n",
    "INGESTION SEQUENCE (DPLA?): null in all 250 - cannot find definition  \n",
    "      \n",
    "**NOT YET IN DATABASE**  \n",
    "  \n",
    "SUBJECT ID  \n",
    "SUBJECT TYPE  "
   ]
  }
 ],
 "metadata": {
  "kernelspec": {
   "display_name": "Python 2",
   "language": "python",
   "name": "python2"
  },
  "language_info": {
   "codemirror_mode": {
    "name": "ipython",
    "version": 2
   },
   "file_extension": ".py",
   "mimetype": "text/x-python",
   "name": "python",
   "nbconvert_exporter": "python",
   "pygments_lexer": "ipython2",
   "version": "2.7.13"
  },
  "toc": {
   "colors": {
    "hover_highlight": "#DAA520",
    "navigate_num": "#000000",
    "navigate_text": "#333333",
    "running_highlight": "#FF0000",
    "selected_highlight": "#FFD700",
    "sidebar_border": "#EEEEEE",
    "wrapper_background": "#FFFFFF"
   },
   "moveMenuLeft": true,
   "nav_menu": {
    "height": "12px",
    "width": "252px"
   },
   "navigate_menu": true,
   "number_sections": true,
   "sideBar": true,
   "threshold": 4,
   "toc_cell": false,
   "toc_section_display": "block",
   "toc_window_display": false,
   "widenNotebook": false
  }
 },
 "nbformat": 4,
 "nbformat_minor": 2
}
