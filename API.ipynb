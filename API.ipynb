{
 "cells": [
  {
   "cell_type": "code",
   "execution_count": 35,
   "metadata": {
    "collapsed": true,
    "deletable": true,
    "editable": true
   },
   "outputs": [],
   "source": [
    "# https://github.com/bibliotechy/DPyLA\n",
    "# https://pro.dp.la/developers/field-reference#sourceResource-subject"
   ]
  },
  {
   "cell_type": "code",
   "execution_count": 5,
   "metadata": {
    "collapsed": false,
    "deletable": true,
    "editable": true
   },
   "outputs": [
    {
     "name": "stdout",
     "output_type": "stream",
     "text": [
      "all set.\n"
     ]
    }
   ],
   "source": [
    "import dpla\n",
    "from dpla.api import DPLA\n",
    "import simplejson as json\n",
    "\n",
    "import pprint\n",
    "\n",
    "print 'all set.'"
   ]
  },
  {
   "cell_type": "markdown",
   "metadata": {
    "deletable": true,
    "editable": true
   },
   "source": [
    "### REMOTE API"
   ]
  },
  {
   "cell_type": "code",
   "execution_count": 13,
   "metadata": {
    "collapsed": false,
    "deletable": true,
    "editable": true
   },
   "outputs": [
    {
     "name": "stdout",
     "output_type": "stream",
     "text": [
      "Product Key ***REMOVED*** initalized, we are a go!\n"
     ]
    }
   ],
   "source": [
    "product_key = '***REMOVED***'\n",
    "dpla = DPLA(product_key)\n",
    "\n",
    "print 'Product Key %s initalized, we are a go!' % product_key"
   ]
  },
  {
   "cell_type": "code",
   "execution_count": 33,
   "metadata": {
    "collapsed": false,
    "deletable": true,
    "editable": true
   },
   "outputs": [],
   "source": [
    "#DPLA URL: https://dp.la/item/0a9d7daa792c26aa0288e23b843176ee\n",
    "#ORIGINAL URL: https://dlg.usg.edu/record/gcfa_gsac_gsac492\n",
    "\n",
    "pp = pprint.PrettyPrinter(depth=2)\n",
    "\n",
    "item_id = \"0a9d7daa792c26aa0288e23b843176ee\"\n",
    "\n",
    "record = dpla.fetch_by_id([item_id])\n"
   ]
  },
  {
   "cell_type": "code",
   "execution_count": null,
   "metadata": {
    "collapsed": true,
    "deletable": true,
    "editable": true
   },
   "outputs": [],
   "source": [
    "# pp.pprint(record.items[0]['sourceResource'])"
   ]
  },
  {
   "cell_type": "code",
   "execution_count": 34,
   "metadata": {
    "collapsed": false,
    "deletable": true,
    "editable": true
   },
   "outputs": [],
   "source": [
    "# pp.pprint(record.items[0]['originalRecord'])"
   ]
  },
  {
   "cell_type": "code",
   "execution_count": 31,
   "metadata": {
    "collapsed": false,
    "deletable": true,
    "editable": true
   },
   "outputs": [
    {
     "name": "stdout",
     "output_type": "stream",
     "text": [
      "DPLA SUBJECTS\n",
      "[{u'name': u'Fiberwork--Georgia'},\n",
      " {u'name': u'Fiberwork--United States'},\n",
      " {u'name': u'Art--Georgia'},\n",
      " {u'name': u'Textile design, Abstract'}]\n"
     ]
    }
   ],
   "source": [
    "print 'DPLA SUBJECTS'\n",
    "pp.pprint(record.items[0]['sourceResource']['subject'])"
   ]
  },
  {
   "cell_type": "code",
   "execution_count": 32,
   "metadata": {
    "collapsed": false,
    "deletable": true,
    "editable": true
   },
   "outputs": [
    {
     "name": "stdout",
     "output_type": "stream",
     "text": [
      "ORIGINAL RECORD SUBJECTS\n",
      "[u'Fiberwork--Georgia',\n",
      " u'Fiberwork--United States',\n",
      " u'Art--Georgia',\n",
      " u'Textile design, Abstract']\n"
     ]
    }
   ],
   "source": [
    "print 'ORIGINAL RECORD SUBJECTS'\n",
    "pp.pprint(record.items[0]['originalRecord']['subject'])"
   ]
  },
  {
   "cell_type": "markdown",
   "metadata": {
    "deletable": true,
    "editable": true
   },
   "source": [
    "### PREPARING A FILE SAMPLE IN BASH"
   ]
  },
  {
   "cell_type": "markdown",
   "metadata": {
    "deletable": true,
    "editable": true
   },
   "source": [
    "1. Get count of lines and size of file:   \n",
    "  ```du -sh file.json # 1.6GB\n",
    "  wc -l file.json # 373085```  <br><br>\n",
    "2. Decide how much you in memory you have to spare.  In this case, my preference is for ~1/3rd.    \n",
    "```373085 - 2 (first and last lines are square brackets which we'll need to remove and then add back)  \n",
    "373083/3 = 124361```  <br><br>\n",
    "\n",
    "3. In order to get a random sample, we'll need to remove the brackets which are the [first and last lines](https://unix.stackexchange.com/questions/209068/how-do-i-delete-the-first-n-lines-and-last-line-of-a-file-using-shell-commands), else these lines would be a part of the random sample.  \n",
    "  ```sed '1d;$d' file.json.bk > file_no_brackets.json  \n",
    "  wc -l file_no_brackets.json # 373083```  <br><br> \n",
    "  \n",
    "4. Check to make sure it worked by [looking at the first N characters](https://stackoverflow.com/questions/14364397/read-first-8-characters-of-text-file-with-bash):  \n",
    "```head -c 100 file_no_brackets.json\n",
    "tail -c 100 file_no_brackets.json```<br><br>\n",
    "\n",
    "5. [Shuffle](https://stackoverflow.com/questions/9245638/select-random-lines-from-a-file-in-bash) 124361 lines and put them in a new file:  \n",
    "```shuf -n 124361 file_no_brackets.json > file_shuffled.json```<br><br>\n",
    "\n",
    "6. Check the head and tail again:    \n",
    "```head -c 100 file_shuffled.json\n",
    "tail -c 100 file_shuffled.json```<br><br>\n",
    "\n",
    "7. Unfortunately, the shuffle will probably cause a comma to be at the start and maybe the end so we must remove it.  Since it's right at the beginning I'll just do it by hand.  And while I'm at it, I'll replace it with a bracket [  and add a ] at the end as well.  [To get to the end of the file](https://stackoverflow.com/questions/17012308/move-cursor-to-end-of-file-in-vim), use :G$ then enter insert mode, or :GA to do both at the same time, then :wq. <br><br>\n",
    "\n",
    "8. To make sure it's valid json, copy and paste at least the first and last (I did two) line into a [json linter](https://jsonlint.com/).  You shouldn't have to add any comma's since each line actually begins with a comma.  If you are on a local computer, you can use pbcopy else it's good 'ol highlighting for you!  \n",
    "```head -n 1 file_shuffled.json\n",
    "tail -n 1 file_shuffled.json```<br><br>\n",
    "\n",
    "9. Now that it's validated, we can do a final check of the line count and file size.  Note, because of step 7, the file will still have the same number of lines.  As opposed to the original file in which the square brackets were each on their own line.  \n",
    "  ```du -sh file.json # 520MB\n",
    "  wc -l file.json # 124361```  <br><br>"
   ]
  },
  {
   "cell_type": "markdown",
   "metadata": {
    "deletable": true,
    "editable": true
   },
   "source": [
    "### LOCAL JSON FILE - WITH DB (NOT WORKING)"
   ]
  },
  {
   "cell_type": "code",
   "execution_count": 3,
   "metadata": {
    "collapsed": true,
    "deletable": true,
    "editable": true
   },
   "outputs": [],
   "source": [
    "from tinymongo import TinyMongoClient"
   ]
  },
  {
   "cell_type": "code",
   "execution_count": null,
   "metadata": {
    "collapsed": false,
    "deletable": true,
    "editable": true
   },
   "outputs": [],
   "source": [
    "# db_file = 'data/georgia.json'\n",
    "client = TinyMongoClient('data/databases/georgia/')\n",
    "db = client.georgia_shuffled"
   ]
  },
  {
   "cell_type": "markdown",
   "metadata": {
    "collapsed": true,
    "deletable": true,
    "editable": true
   },
   "source": [
    "### LOCAL JSON FILE - NO DB"
   ]
  },
  {
   "cell_type": "markdown",
   "metadata": {
    "deletable": true,
    "editable": true
   },
   "source": [
    "HELPFUL LINKS:\n",
    "1. http://zetcode.com/python/simplejson/  "
   ]
  },
  {
   "cell_type": "code",
   "execution_count": null,
   "metadata": {
    "collapsed": true,
    "deletable": true,
    "editable": true
   },
   "outputs": [],
   "source": [
    "    124361 georgia_shuffled.json 520M\n",
    "    \n",
    "    100000 georgia_1e5.json      418M  80.40%  FAIL\n",
    "     50000 georgia_5e4.json      209M  40.20%  562M\n",
    "     25000 georgia_25e3.json     105M  20.10%  260M\n",
    "     12436 georgia_12e3.json      58M  10.00%   64M(?)   \n",
    "     10000 georgia_1e4.json       42M   8.04%   75M\n",
    "      5000 georgia_5e3.json       21M   4.02%   41M\n",
    "      2500 georgia_25e2.json      11M   2.01%   16M  \n",
    "      1000 georgia_1e3.json      6.1M   0.80%    3M\n",
    "       500 georgia_5e2.json      3.0M   0.40%    0M\n",
    "       250 georgia_25e1.json     1.5M   0.20%    0M \n",
    "\n",
    "    318611 total"
   ]
  },
  {
   "cell_type": "code",
   "execution_count": 1,
   "metadata": {
    "collapsed": false,
    "deletable": true,
    "editable": true
   },
   "outputs": [],
   "source": [
    "import simplejson as json\n",
    "\n",
    "databases = 'data/databases/'\n",
    "state = 'georgia/'\n",
    "file_name = 'georgia_25e1.json'\n",
    "\n",
    "with open(databases + state + file_name) as json_file:\n",
    "    georgia = json.load(json_file)"
   ]
  },
  {
   "cell_type": "code",
   "execution_count": 3,
   "metadata": {
    "collapsed": false,
    "deletable": true,
    "editable": true
   },
   "outputs": [],
   "source": [
    "# print json.dumps(georgia[0], indent = 4 * ' ')"
   ]
  },
  {
   "cell_type": "code",
   "execution_count": null,
   "metadata": {
    "collapsed": true
   },
   "outputs": [],
   "source": []
  }
 ],
 "metadata": {
  "kernelspec": {
   "display_name": "Python 2",
   "language": "python",
   "name": "python2"
  },
  "language_info": {
   "codemirror_mode": {
    "name": "ipython",
    "version": 2
   },
   "file_extension": ".py",
   "mimetype": "text/x-python",
   "name": "python",
   "nbconvert_exporter": "python",
   "pygments_lexer": "ipython2",
   "version": "2.7.13"
  },
  "toc": {
   "colors": {
    "hover_highlight": "#DAA520",
    "navigate_num": "#000000",
    "navigate_text": "#333333",
    "running_highlight": "#FF0000",
    "selected_highlight": "#FFD700",
    "sidebar_border": "#EEEEEE",
    "wrapper_background": "#FFFFFF"
   },
   "moveMenuLeft": true,
   "nav_menu": {
    "height": "12px",
    "width": "252px"
   },
   "navigate_menu": true,
   "number_sections": true,
   "sideBar": true,
   "threshold": 4,
   "toc_cell": false,
   "toc_section_display": "block",
   "toc_window_display": false,
   "widenNotebook": false
  }
 },
 "nbformat": 4,
 "nbformat_minor": 2
}
